{
 "cells": [
  {
   "cell_type": "code",
   "execution_count": 1,
   "id": "6567c4ac",
   "metadata": {},
   "outputs": [],
   "source": [
    "import numpy as np\n",
    "import pandas as pd\n",
    "from pandas_datareader import data as wb\n",
    "import yfinance as yf"
   ]
  },
  {
   "cell_type": "code",
   "execution_count": 2,
   "id": "5970b8b2",
   "metadata": {},
   "outputs": [
    {
     "name": "stdout",
     "output_type": "stream",
     "text": [
      "[*********************100%%**********************]  1 of 1 completed\n",
      "[*********************100%%**********************]  1 of 1 completed\n"
     ]
    }
   ],
   "source": [
    "tickers=['GOOG', '^GSPC']\n",
    "yf.pdr_override()\n",
    "data=pd.DataFrame()\n",
    "for ticker in tickers:\n",
    "    data[ticker]=wb.get_data_yahoo(ticker, start='2010-01-01')['Adj Close']"
   ]
  },
  {
   "cell_type": "code",
   "execution_count": 3,
   "id": "d27e4564",
   "metadata": {
    "scrolled": true
   },
   "outputs": [
    {
     "data": {
      "text/html": [
       "<div>\n",
       "<style scoped>\n",
       "    .dataframe tbody tr th:only-of-type {\n",
       "        vertical-align: middle;\n",
       "    }\n",
       "\n",
       "    .dataframe tbody tr th {\n",
       "        vertical-align: top;\n",
       "    }\n",
       "\n",
       "    .dataframe thead th {\n",
       "        text-align: right;\n",
       "    }\n",
       "</style>\n",
       "<table border=\"1\" class=\"dataframe\">\n",
       "  <thead>\n",
       "    <tr style=\"text-align: right;\">\n",
       "      <th></th>\n",
       "      <th>GOOG</th>\n",
       "      <th>^GSPC</th>\n",
       "    </tr>\n",
       "    <tr>\n",
       "      <th>Date</th>\n",
       "      <th></th>\n",
       "      <th></th>\n",
       "    </tr>\n",
       "  </thead>\n",
       "  <tbody>\n",
       "    <tr>\n",
       "      <th>2010-01-04</th>\n",
       "      <td>15.610239</td>\n",
       "      <td>1132.989990</td>\n",
       "    </tr>\n",
       "    <tr>\n",
       "      <th>2010-01-05</th>\n",
       "      <td>15.541497</td>\n",
       "      <td>1136.520020</td>\n",
       "    </tr>\n",
       "    <tr>\n",
       "      <th>2010-01-06</th>\n",
       "      <td>15.149715</td>\n",
       "      <td>1137.140015</td>\n",
       "    </tr>\n",
       "    <tr>\n",
       "      <th>2010-01-07</th>\n",
       "      <td>14.797037</td>\n",
       "      <td>1141.689941</td>\n",
       "    </tr>\n",
       "    <tr>\n",
       "      <th>2010-01-08</th>\n",
       "      <td>14.994298</td>\n",
       "      <td>1144.979980</td>\n",
       "    </tr>\n",
       "  </tbody>\n",
       "</table>\n",
       "</div>"
      ],
      "text/plain": [
       "                 GOOG        ^GSPC\n",
       "Date                              \n",
       "2010-01-04  15.610239  1132.989990\n",
       "2010-01-05  15.541497  1136.520020\n",
       "2010-01-06  15.149715  1137.140015\n",
       "2010-01-07  14.797037  1141.689941\n",
       "2010-01-08  14.994298  1144.979980"
      ]
     },
     "execution_count": 3,
     "metadata": {},
     "output_type": "execute_result"
    }
   ],
   "source": [
    "data.head()"
   ]
  },
  {
   "cell_type": "code",
   "execution_count": 4,
   "id": "8f29714b",
   "metadata": {
    "scrolled": true
   },
   "outputs": [
    {
     "data": {
      "text/html": [
       "<div>\n",
       "<style scoped>\n",
       "    .dataframe tbody tr th:only-of-type {\n",
       "        vertical-align: middle;\n",
       "    }\n",
       "\n",
       "    .dataframe tbody tr th {\n",
       "        vertical-align: top;\n",
       "    }\n",
       "\n",
       "    .dataframe thead th {\n",
       "        text-align: right;\n",
       "    }\n",
       "</style>\n",
       "<table border=\"1\" class=\"dataframe\">\n",
       "  <thead>\n",
       "    <tr style=\"text-align: right;\">\n",
       "      <th></th>\n",
       "      <th>GOOG</th>\n",
       "      <th>^GSPC</th>\n",
       "    </tr>\n",
       "    <tr>\n",
       "      <th>Date</th>\n",
       "      <th></th>\n",
       "      <th></th>\n",
       "    </tr>\n",
       "  </thead>\n",
       "  <tbody>\n",
       "    <tr>\n",
       "      <th>2010-01-04</th>\n",
       "      <td>NaN</td>\n",
       "      <td>NaN</td>\n",
       "    </tr>\n",
       "    <tr>\n",
       "      <th>2010-01-05</th>\n",
       "      <td>-0.004413</td>\n",
       "      <td>0.003111</td>\n",
       "    </tr>\n",
       "    <tr>\n",
       "      <th>2010-01-06</th>\n",
       "      <td>-0.025532</td>\n",
       "      <td>0.000545</td>\n",
       "    </tr>\n",
       "    <tr>\n",
       "      <th>2010-01-07</th>\n",
       "      <td>-0.023555</td>\n",
       "      <td>0.003993</td>\n",
       "    </tr>\n",
       "    <tr>\n",
       "      <th>2010-01-08</th>\n",
       "      <td>0.013243</td>\n",
       "      <td>0.002878</td>\n",
       "    </tr>\n",
       "  </tbody>\n",
       "</table>\n",
       "</div>"
      ],
      "text/plain": [
       "                GOOG     ^GSPC\n",
       "Date                          \n",
       "2010-01-04       NaN       NaN\n",
       "2010-01-05 -0.004413  0.003111\n",
       "2010-01-06 -0.025532  0.000545\n",
       "2010-01-07 -0.023555  0.003993\n",
       "2010-01-08  0.013243  0.002878"
      ]
     },
     "execution_count": 4,
     "metadata": {},
     "output_type": "execute_result"
    }
   ],
   "source": [
    "returns=np.log(data/data.shift(1))\n",
    "returns.head()"
   ]
  },
  {
   "cell_type": "code",
   "execution_count": 5,
   "id": "3ad8837d",
   "metadata": {},
   "outputs": [
    {
     "data": {
      "text/html": [
       "<div>\n",
       "<style scoped>\n",
       "    .dataframe tbody tr th:only-of-type {\n",
       "        vertical-align: middle;\n",
       "    }\n",
       "\n",
       "    .dataframe tbody tr th {\n",
       "        vertical-align: top;\n",
       "    }\n",
       "\n",
       "    .dataframe thead th {\n",
       "        text-align: right;\n",
       "    }\n",
       "</style>\n",
       "<table border=\"1\" class=\"dataframe\">\n",
       "  <thead>\n",
       "    <tr style=\"text-align: right;\">\n",
       "      <th></th>\n",
       "      <th>GOOG</th>\n",
       "      <th>^GSPC</th>\n",
       "    </tr>\n",
       "  </thead>\n",
       "  <tbody>\n",
       "    <tr>\n",
       "      <th>GOOG</th>\n",
       "      <td>0.074348</td>\n",
       "      <td>0.033272</td>\n",
       "    </tr>\n",
       "    <tr>\n",
       "      <th>^GSPC</th>\n",
       "      <td>0.033272</td>\n",
       "      <td>0.030640</td>\n",
       "    </tr>\n",
       "  </tbody>\n",
       "</table>\n",
       "</div>"
      ],
      "text/plain": [
       "           GOOG     ^GSPC\n",
       "GOOG   0.074348  0.033272\n",
       "^GSPC  0.033272  0.030640"
      ]
     },
     "execution_count": 5,
     "metadata": {},
     "output_type": "execute_result"
    }
   ],
   "source": [
    "cov=returns.cov()*252\n",
    "cov.head()"
   ]
  },
  {
   "cell_type": "code",
   "execution_count": 6,
   "id": "72a697ca",
   "metadata": {},
   "outputs": [
    {
     "data": {
      "text/plain": [
       "0.033271914610566056"
      ]
     },
     "execution_count": 6,
     "metadata": {},
     "output_type": "execute_result"
    }
   ],
   "source": [
    "c_with_market=cov.iloc[0,1]\n",
    "c_with_market"
   ]
  },
  {
   "cell_type": "code",
   "execution_count": 7,
   "id": "a61beb32",
   "metadata": {},
   "outputs": [
    {
     "data": {
      "text/plain": [
       "0.030640027827970404"
      ]
     },
     "execution_count": 7,
     "metadata": {},
     "output_type": "execute_result"
    }
   ],
   "source": [
    "market_var=returns['^GSPC'].var()*252\n",
    "market_var"
   ]
  },
  {
   "cell_type": "code",
   "execution_count": 8,
   "id": "31a8eedc",
   "metadata": {},
   "outputs": [
    {
     "data": {
      "text/plain": [
       "1.085897010191129"
      ]
     },
     "execution_count": 8,
     "metadata": {},
     "output_type": "execute_result"
    }
   ],
   "source": [
    "goog_beta=c_with_market/market_var\n",
    "goog_beta"
   ]
  },
  {
   "cell_type": "code",
   "execution_count": 9,
   "id": "a399e89b",
   "metadata": {},
   "outputs": [
    {
     "data": {
      "text/plain": [
       "0.1135857343325074"
      ]
     },
     "execution_count": 9,
     "metadata": {},
     "output_type": "execute_result"
    }
   ],
   "source": [
    "riskfree=0.025\n",
    "riskpremium=(returns['^GSPC'].mean()*252)-riskfree\n",
    "goog_capm_return=riskfree+ goog_beta*(riskpremium)\n",
    "goog_capm_return"
   ]
  },
  {
   "cell_type": "code",
   "execution_count": 10,
   "id": "d02a78c2",
   "metadata": {
    "scrolled": true
   },
   "outputs": [
    {
     "data": {
      "text/plain": [
       "0.042579035789864765"
      ]
     },
     "execution_count": 10,
     "metadata": {},
     "output_type": "execute_result"
    }
   ],
   "source": [
    "log_return=np.log(data/data.shift(1))\n",
    "sharpe_goog=(goog_capm_return - riskfree)/((log_return['GOOG'].std()*252)**0.5)\n",
    "sharpe_goog"
   ]
  },
  {
   "cell_type": "code",
   "execution_count": 11,
   "id": "5f825ee7",
   "metadata": {},
   "outputs": [],
   "source": [
    "def import_data(tickers, start):\n",
    "    yf.pdr_override()\n",
    "    data=pd.DataFrame()\n",
    "    for ticker in tickers:\n",
    "        data[ticker]=wb.get_data_yahoo(ticker, start)['Adj Close']\n",
    "    return data"
   ]
  },
  {
   "cell_type": "code",
   "execution_count": 12,
   "id": "611de0af",
   "metadata": {},
   "outputs": [],
   "source": [
    "def compute_beta(data, stock, market):\n",
    "    ret=np.log(data/data.shift(1))\n",
    "    cov=ret.cov()*252\n",
    "    cov_w_m=cov.iloc[0,1]\n",
    "    market_var=ret[market].var()*252\n",
    "    return cov_w_m/market_var"
   ]
  },
  {
   "cell_type": "code",
   "execution_count": 13,
   "id": "9bc3c7a6",
   "metadata": {},
   "outputs": [],
   "source": [
    "def capm(data, riskfree, beta, market):\n",
    "    ret=np.log(data/data.shift(1))\n",
    "    riskprem=ret[market].mean()*252-riskfree\n",
    "    capm=riskfree+beta*riskprem\n",
    "    return capm"
   ]
  },
  {
   "cell_type": "code",
   "execution_count": 14,
   "id": "56b00171",
   "metadata": {},
   "outputs": [],
   "source": [
    "def sharpe(data, riskfree, capm, stock):\n",
    "    ret=np.log(data/data.shift(1))\n",
    "    sharpe_stock=(capm-riskfree)/((ret[stock].std()*252)**0.5)\n",
    "    return sharpe_stock"
   ]
  },
  {
   "cell_type": "code",
   "execution_count": 15,
   "id": "98e6fa07",
   "metadata": {},
   "outputs": [],
   "source": [
    "def stock_capm(stock, market='^GSPC', start='2010-01-01', riskfree=0.025):\n",
    "    data=import_data([stock, market], start)\n",
    "    beta=compute_beta(data, stock, market)\n",
    "    cal_capm=capm(data, riskfree, beta, market)\n",
    "    cal_sharpe=sharpe(data, riskfree, cal_capm, stock)\n",
    "    print(f\"Beta {beta}\\nCAPM Expected Return {cal_capm}\\nSharpe {cal_sharpe}\")\n",
    "    return [beta, cal_capm, cal_sharpe]"
   ]
  },
  {
   "cell_type": "code",
   "execution_count": 16,
   "id": "c8439da6",
   "metadata": {},
   "outputs": [
    {
     "name": "stdout",
     "output_type": "stream",
     "text": [
      "[*********************100%%**********************]  1 of 1 completed\n",
      "[*********************100%%**********************]  1 of 1 completed\n",
      "Beta 1.085897010191129\n",
      "CAPM Expected Return 0.1135857343325074\n",
      "Sharpe 0.042579035789864765\n"
     ]
    }
   ],
   "source": [
    "res=stock_capm('GOOG', '^GSPC')"
   ]
  }
 ],
 "metadata": {
  "kernelspec": {
   "display_name": "Python 3 (ipykernel)",
   "language": "python",
   "name": "python3"
  },
  "language_info": {
   "codemirror_mode": {
    "name": "ipython",
    "version": 3
   },
   "file_extension": ".py",
   "mimetype": "text/x-python",
   "name": "python",
   "nbconvert_exporter": "python",
   "pygments_lexer": "ipython3",
   "version": "3.11.3"
  }
 },
 "nbformat": 4,
 "nbformat_minor": 5
}
